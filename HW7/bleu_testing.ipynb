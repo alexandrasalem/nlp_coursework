{
 "cells": [
  {
   "cell_type": "markdown",
   "metadata": {},
   "source": [
    "## Part 2: BLEU Scores"
   ]
  },
  {
   "cell_type": "code",
   "execution_count": 1,
   "metadata": {},
   "outputs": [],
   "source": [
    "import bleu"
   ]
  },
  {
   "cell_type": "code",
   "execution_count": 2,
   "metadata": {},
   "outputs": [],
   "source": [
    "def read_in_sentences(filename):\n",
    "    sentences = []\n",
    "    with open(filename, \"r\") as file:\n",
    "        sentence = file.readline()\n",
    "        sentences.append(sentence[:-3].split(\" \"))\n",
    "        while sentence:\n",
    "            sentence = file.readline()\n",
    "            sentences.append(sentence[:-3].split(\" \"))\n",
    "    return sentences[:-1]       "
   ]
  },
  {
   "cell_type": "code",
   "execution_count": 3,
   "metadata": {},
   "outputs": [],
   "source": [
    "reference_english_sentences = read_in_sentences(\"e.tok\")\n",
    "google_english_sentences = read_in_sentences(\"gtranslate.tok\")\n",
    "systran_english_sentences = read_in_sentences(\"systran.tok\")"
   ]
  },
  {
   "cell_type": "code",
   "execution_count": 4,
   "metadata": {
    "scrolled": true
   },
   "outputs": [
    {
     "name": "stdout",
     "output_type": "stream",
     "text": [
      "Google Scores:\n",
      "Sentence 1: 0.707276132724\n",
      "Sentence 2: 0.177170238173\n",
      "Sentence 3: 0\n",
      "Sentence 4: 0.257395279499\n",
      "Sentence 5: 0.464432860277\n",
      "Sentence 6: 0.780906255551\n",
      "Sentence 7: 0.0925152719324\n",
      "Sentence 8: 0.304418335499\n",
      "Sentence 9: 0.560983033602\n",
      "Sentence 10: 0.671098487322\n"
     ]
    }
   ],
   "source": [
    "#printing google scores\n",
    "print(\"Google Scores:\")\n",
    "for i in range(0, len(reference_english_sentences)):\n",
    "    print(\"Sentence \" + str(i+1) + \": \" + str(bleu.BLEU(google_english_sentences[i], reference_english_sentences[i])))"
   ]
  },
  {
   "cell_type": "code",
   "execution_count": 5,
   "metadata": {},
   "outputs": [
    {
     "name": "stdout",
     "output_type": "stream",
     "text": [
      "Systran Scores:\n",
      "Sentence 1: 0.471840679048\n",
      "Sentence 2: 0.18860057612\n",
      "Sentence 3: 0\n",
      "Sentence 4: 0.208365026263\n",
      "Sentence 5: 0.235999615216\n",
      "Sentence 6: 0.780906255551\n",
      "Sentence 7: 0.289815526493\n",
      "Sentence 8: 0.290923330023\n",
      "Sentence 9: 0.239448970341\n",
      "Sentence 10: 0\n"
     ]
    }
   ],
   "source": [
    "#printing systran scores\n",
    "print(\"Systran Scores:\")\n",
    "for i in range(0, len(reference_english_sentences)):\n",
    "    print(\"Sentence \" + str(i+1) + \": \" + str(bleu.BLEU(systran_english_sentences[i], reference_english_sentences[i])))"
   ]
  },
  {
   "cell_type": "code",
   "execution_count": null,
   "metadata": {},
   "outputs": [],
   "source": []
  },
  {
   "cell_type": "code",
   "execution_count": null,
   "metadata": {},
   "outputs": [],
   "source": []
  }
 ],
 "metadata": {
  "kernelspec": {
   "display_name": "Python 2",
   "language": "python",
   "name": "python2"
  },
  "language_info": {
   "codemirror_mode": {
    "name": "ipython",
    "version": 2
   },
   "file_extension": ".py",
   "mimetype": "text/x-python",
   "name": "python",
   "nbconvert_exporter": "python",
   "pygments_lexer": "ipython2",
   "version": "2.7.10"
  }
 },
 "nbformat": 4,
 "nbformat_minor": 2
}
