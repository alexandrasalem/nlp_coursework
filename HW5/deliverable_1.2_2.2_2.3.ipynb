{
 "cells": [
  {
   "cell_type": "code",
   "execution_count": 1,
   "metadata": {},
   "outputs": [],
   "source": [
    "import tree"
   ]
  },
  {
   "cell_type": "code",
   "execution_count": 2,
   "metadata": {},
   "outputs": [],
   "source": [
    "from importlib import reload"
   ]
  },
  {
   "cell_type": "code",
   "execution_count": 3,
   "metadata": {},
   "outputs": [],
   "source": [
    "reload(tree);"
   ]
  },
  {
   "cell_type": "code",
   "execution_count": 4,
   "metadata": {},
   "outputs": [],
   "source": [
    "s = '(TOP (S (VP (TO to) (VP (VB play)))))'"
   ]
  },
  {
   "cell_type": "code",
   "execution_count": 5,
   "metadata": {},
   "outputs": [],
   "source": [
    "t = tree.Tree.from_string(s)"
   ]
  },
  {
   "cell_type": "code",
   "execution_count": 6,
   "metadata": {},
   "outputs": [
    {
     "data": {
      "text/plain": [
       "(TOP\n",
       "    (S\n",
       "        (VP\n",
       "            (TO to)\n",
       "            (VP\n",
       "                (VB play)\n",
       "            )\n",
       "        )\n",
       "    )\n",
       ")"
      ]
     },
     "execution_count": 6,
     "metadata": {},
     "output_type": "execute_result"
    }
   ],
   "source": [
    "t"
   ]
  },
  {
   "cell_type": "code",
   "execution_count": 7,
   "metadata": {},
   "outputs": [
    {
     "data": {
      "text/plain": [
       "(TOP\n",
       "    (S+VP\n",
       "        (TO to)\n",
       "        (VP\n",
       "            (VB play)\n",
       "        )\n",
       "    )\n",
       ")"
      ]
     },
     "execution_count": 7,
     "metadata": {},
     "output_type": "execute_result"
    }
   ],
   "source": [
    "t.collapse_unary()"
   ]
  },
  {
   "cell_type": "code",
   "execution_count": 8,
   "metadata": {},
   "outputs": [],
   "source": [
    "s2 = '(TOP (S (SBAR (VP (TO to) (VP (VB play))))))'"
   ]
  },
  {
   "cell_type": "code",
   "execution_count": 9,
   "metadata": {},
   "outputs": [
    {
     "data": {
      "text/plain": [
       "(TOP\n",
       "    (S+SBAR+VP\n",
       "        (TO to)\n",
       "        (VP\n",
       "            (VB play)\n",
       "        )\n",
       "    )\n",
       ")"
      ]
     },
     "execution_count": 9,
     "metadata": {},
     "output_type": "execute_result"
    }
   ],
   "source": [
    "t2 = tree.Tree.from_string(s2)\n",
    "t2.collapse_unary()"
   ]
  },
  {
   "cell_type": "code",
   "execution_count": 10,
   "metadata": {},
   "outputs": [],
   "source": [
    "s = '''(TOP (S (S (VP (VBN Turned) (ADVP (RB loose)) (PP \n",
    "        ...        (IN in) (NP (NP (NNP Shane) (NNP Longman) (POS 's)) \n",
    "        ...        (NN trading) (NN room))))) (, ,) (NP (DT the) \n",
    "        ...        (NN yuppie) (NNS dealers)) (VP (AUX do) (NP (NP \n",
    "        ...        (RB little)) (ADJP (RB right)))) (. .)))'''"
   ]
  },
  {
   "cell_type": "code",
   "execution_count": 11,
   "metadata": {},
   "outputs": [
    {
     "data": {
      "text/plain": [
       "(TOP\n",
       "    (S\n",
       "        (S+VP\n",
       "            (VBN Turned)\n",
       "            (ADVP\n",
       "                (RB loose)\n",
       "            )\n",
       "            (PP ...\n",
       "                (IN in)\n",
       "                (NP\n",
       "                    (NP\n",
       "                        (NNP Shane)\n",
       "                        (NNP Longman)\n",
       "                        (POS 's)\n",
       "                    ) ...\n",
       "                    (NN trading)\n",
       "                    (NN room)\n",
       "                )\n",
       "            )\n",
       "        )\n",
       "        (, ,)\n",
       "        (NP\n",
       "            (DT the) ...\n",
       "            (NN yuppie)\n",
       "            (NNS dealers)\n",
       "        )\n",
       "        (VP\n",
       "            (AUX do)\n",
       "            (NP\n",
       "                (NP ...\n",
       "                    (RB little)\n",
       "                )\n",
       "                (ADJP\n",
       "                    (RB right)\n",
       "                )\n",
       "            )\n",
       "        )\n",
       "        (. .)\n",
       "    )\n",
       ")"
      ]
     },
     "execution_count": 11,
     "metadata": {},
     "output_type": "execute_result"
    }
   ],
   "source": [
    "t = tree.Tree.from_string(s)\n",
    "t.collapse_unary()"
   ]
  },
  {
   "cell_type": "code",
   "execution_count": 12,
   "metadata": {},
   "outputs": [],
   "source": [
    "reload(tree);"
   ]
  },
  {
   "cell_type": "code",
   "execution_count": 13,
   "metadata": {},
   "outputs": [],
   "source": [
    "s = '''(TOP (S (S (VP (VBN Turned) (ADVP (RB loose)) (PP (IN in) (NP (NP (NNP Shane) (NNP Longman) (POS 's)) (NN trading) (NN room))))) (, ,) (NP (DT the) (NN yuppie) (NNS dealers)) (VP (AUX do) (NP (NP (RB little)) (ADJP (RB right)))) (. .)))'''\n",
    "t = tree.Tree.from_string(s)"
   ]
  },
  {
   "cell_type": "code",
   "execution_count": 14,
   "metadata": {},
   "outputs": [
    {
     "data": {
      "text/plain": [
       "(TOP\n",
       "    (S\n",
       "        (S+VP\n",
       "            (VBN Turned)\n",
       "            (ADVP\n",
       "                (RB loose)\n",
       "            )\n",
       "            (PP\n",
       "                (IN in)\n",
       "                (NP\n",
       "                    (NP\n",
       "                        (NNP Shane)\n",
       "                        (NNP Longman)\n",
       "                        (POS 's)\n",
       "                    )\n",
       "                    (NN trading)\n",
       "                    (NN room)\n",
       "                )\n",
       "            )\n",
       "        )\n",
       "        (, ,)\n",
       "        (NP\n",
       "            (DT the)\n",
       "            (NN yuppie)\n",
       "            (NNS dealers)\n",
       "        )\n",
       "        (VP\n",
       "            (AUX do)\n",
       "            (NP\n",
       "                (NP\n",
       "                    (RB little)\n",
       "                )\n",
       "                (ADJP\n",
       "                    (RB right)\n",
       "                )\n",
       "            )\n",
       "        )\n",
       "        (. .)\n",
       "    )\n",
       ")"
      ]
     },
     "execution_count": 14,
     "metadata": {},
     "output_type": "execute_result"
    }
   ],
   "source": [
    "t.collapse_unary()"
   ]
  },
  {
   "cell_type": "code",
   "execution_count": 15,
   "metadata": {},
   "outputs": [
    {
     "data": {
      "text/plain": [
       "(TOP\n",
       "    (S\n",
       "        (S+VP\n",
       "            (VBN Turned)\n",
       "            (S+VP|<ADVP&PP>\n",
       "                (ADVP\n",
       "                    (RB loose)\n",
       "                )\n",
       "                (PP\n",
       "                    (IN in)\n",
       "                    (NP\n",
       "                        (NP\n",
       "                            (NNP Shane)\n",
       "                            (NP|<NNP&POS>\n",
       "                                (NNP Longman)\n",
       "                                (POS 's)\n",
       "                            )\n",
       "                        )\n",
       "                        (NP|<NN&NN>\n",
       "                            (NN trading)\n",
       "                            (NN room)\n",
       "                        )\n",
       "                    )\n",
       "                )\n",
       "            )\n",
       "        )\n",
       "        (S|<,&NP>\n",
       "            (, ,)\n",
       "            (S|<NP&VP>\n",
       "                (NP\n",
       "                    (DT the)\n",
       "                    (NP|<NN&NNS>\n",
       "                        (NN yuppie)\n",
       "                        (NNS dealers)\n",
       "                    )\n",
       "                )\n",
       "                (S|<VP&.>\n",
       "                    (VP\n",
       "                        (AUX do)\n",
       "                        (NP\n",
       "                            (NP\n",
       "                                (RB little)\n",
       "                            )\n",
       "                            (ADJP\n",
       "                                (RB right)\n",
       "                            )\n",
       "                        )\n",
       "                    )\n",
       "                    (. .)\n",
       "                )\n",
       "            )\n",
       "        )\n",
       "    )\n",
       ")"
      ]
     },
     "execution_count": 15,
     "metadata": {},
     "output_type": "execute_result"
    }
   ],
   "source": [
    "t.collapse_unary().chomsky_normal_form()"
   ]
  },
  {
   "cell_type": "code",
   "execution_count": 16,
   "metadata": {},
   "outputs": [],
   "source": [
    "import tree"
   ]
  },
  {
   "cell_type": "code",
   "execution_count": 17,
   "metadata": {},
   "outputs": [],
   "source": [
    "reload(tree);\n",
    "s = '''(TOP (S (S (VP (VBN Turned) (ADVP (RB loose)) (PP (IN in) (NP (NP (NNP Shane) (NNP Longman) (POS 's)) (NN trading) (NN room))))) (, ,) (NP (DT the) (NN yuppie) (NNS dealers)) (VP (AUX do) (NP (NP (RB little)) (ADJP (RB right)))) (. .)))'''\n",
    "t = tree.Tree.from_string(s)"
   ]
  },
  {
   "cell_type": "code",
   "execution_count": 18,
   "metadata": {},
   "outputs": [
    {
     "data": {
      "text/plain": [
       "[['TOP', ['S']],\n",
       " ['S', ['S+VP', 'S|<,&NP>']],\n",
       " ['S+VP', ['VBN', 'S+VP|<ADVP&PP>']],\n",
       " ['VBN', ['Turned']],\n",
       " ['S+VP|<ADVP&PP>', ['ADVP', 'PP']],\n",
       " ['ADVP', ['RB']],\n",
       " ['RB', ['loose']],\n",
       " ['PP', ['IN', 'NP']],\n",
       " ['IN', ['in']],\n",
       " ['NP', ['NP', 'NP|<NN&NN>']],\n",
       " ['NP', ['NNP', 'NP|<NNP&POS>']],\n",
       " ['NNP', ['Shane']],\n",
       " ['NP|<NNP&POS>', ['NNP', 'POS']],\n",
       " ['NNP', ['Longman']],\n",
       " ['POS', [\"'s\"]],\n",
       " ['NP|<NN&NN>', ['NN', 'NN']],\n",
       " ['NN', ['trading']],\n",
       " ['NN', ['room']],\n",
       " ['S|<,&NP>', [',', 'S|<NP&VP>']],\n",
       " [',', [',']],\n",
       " ['S|<NP&VP>', ['NP', 'S|<VP&.>']],\n",
       " ['NP', ['DT', 'NP|<NN&NNS>']],\n",
       " ['DT', ['the']],\n",
       " ['NP|<NN&NNS>', ['NN', 'NNS']],\n",
       " ['NN', ['yuppie']],\n",
       " ['NNS', ['dealers']],\n",
       " ['S|<VP&.>', ['VP', '.']],\n",
       " ['VP', ['AUX', 'NP']],\n",
       " ['AUX', ['do']],\n",
       " ['NP', ['NP', 'ADJP']],\n",
       " ['NP', ['RB']],\n",
       " ['RB', ['little']],\n",
       " ['ADJP', ['RB']],\n",
       " ['RB', ['right']],\n",
       " ['.', ['.']]]"
      ]
     },
     "execution_count": 18,
     "metadata": {},
     "output_type": "execute_result"
    }
   ],
   "source": [
    "t.collapse_unary().chomsky_normal_form().productions()"
   ]
  }
 ],
 "metadata": {
  "kernelspec": {
   "display_name": "Python 3",
   "language": "python",
   "name": "python3"
  },
  "language_info": {
   "codemirror_mode": {
    "name": "ipython",
    "version": 3
   },
   "file_extension": ".py",
   "mimetype": "text/x-python",
   "name": "python",
   "nbconvert_exporter": "python",
   "pygments_lexer": "ipython3",
   "version": "3.6.4"
  }
 },
 "nbformat": 4,
 "nbformat_minor": 2
}
